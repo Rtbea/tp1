{
 "cells": [
  {
   "cell_type": "markdown",
   "metadata": {},
   "source": [
    "# Bases de connaissance : interroger Wikidata à l'aide de requêtes SPARQL"
   ]
  },
  {
   "cell_type": "markdown",
   "metadata": {
    "tags": []
   },
   "source": [
    "## Imports"
   ]
  },
  {
   "cell_type": "code",
   "execution_count": 24,
   "metadata": {},
   "outputs": [],
   "source": [
    "from datetime import datetime as dt\n",
    "from SPARQLWrapper import SPARQLWrapper, JSON"
   ]
  },
  {
   "cell_type": "markdown",
   "metadata": {},
   "source": [
    "## Obtenir la liste des architectes qui ont travaillé à Bruxelles"
   ]
  },
  {
   "cell_type": "code",
   "execution_count": 25,
   "metadata": {},
   "outputs": [
    {
     "name": "stdout",
     "output_type": "stream",
     "text": [
      "\n",
      "33 Architects working in Brussels found\n",
      "\n",
      "[{'item': {'type': 'uri', 'value': 'http://www.wikidata.org/entity/Q2337355'}, 'dateBirth': {'datatype': 'http://www.w3.org/2001/XMLSchema#dateTime', 'type': 'literal', 'value': '1350-01-01T00:00:00Z'}, 'itemLabel': {'xml:lang': 'en', 'type': 'literal', 'value': 'Jacob van Thienen'}}, {'item': {'type': 'uri', 'value': 'http://www.wikidata.org/entity/Q3263599'}, 'dateBirth': {'datatype': 'http://www.w3.org/2001/XMLSchema#dateTime', 'type': 'literal', 'value': '1470-01-01T00:00:00Z'}, 'itemLabel': {'xml:lang': 'en', 'type': 'literal', 'value': 'Louis van Bodeghem'}}, {'item': {'type': 'uri', 'value': 'http://www.wikidata.org/entity/Q2066867'}, 'dateBirth': {'datatype': 'http://www.w3.org/2001/XMLSchema#dateTime', 'type': 'literal', 'value': '1503-01-01T00:00:00Z'}, 'itemLabel': {'xml:lang': 'en', 'type': 'literal', 'value': 'Pedro Campaña'}}, {'item': {'type': 'uri', 'value': 'http://www.wikidata.org/entity/Q513704'}, 'dateBirth': {'datatype': 'http://www.w3.org/2001/XMLSchema#dateTime', 'type': 'literal', 'value': '1560-01-01T00:00:00Z'}, 'itemLabel': {'xml:lang': 'en', 'type': 'literal', 'value': 'Wenceslas Cobergher'}}, {'item': {'type': 'uri', 'value': 'http://www.wikidata.org/entity/Q668060'}, 'dateBirth': {'datatype': 'http://www.w3.org/2001/XMLSchema#dateTime', 'type': 'literal', 'value': '1582-01-01T00:00:00Z'}, 'itemLabel': {'xml:lang': 'en', 'type': 'literal', 'value': 'Jacob Franquart'}}, {'item': {'type': 'uri', 'value': 'http://www.wikidata.org/entity/Q2462938'}, 'dateBirth': {'datatype': 'http://www.w3.org/2001/XMLSchema#dateTime', 'type': 'literal', 'value': '1592-02-23T00:00:00Z'}, 'itemLabel': {'xml:lang': 'en', 'type': 'literal', 'value': 'Balthazar Gerbier'}}, {'item': {'type': 'uri', 'value': 'http://www.wikidata.org/entity/Q6524371'}, 'dateBirth': {'datatype': 'http://www.w3.org/2001/XMLSchema#dateTime', 'type': 'literal', 'value': '1605-01-01T00:00:00Z'}, 'itemLabel': {'xml:lang': 'en', 'type': 'literal', 'value': 'Leo van Heil'}}, {'item': {'type': 'uri', 'value': 'http://www.wikidata.org/entity/Q98936701'}, 'dateBirth': {'datatype': 'http://www.w3.org/2001/XMLSchema#dateTime', 'type': 'literal', 'value': '1685-03-15T00:00:00Z'}, 'itemLabel': {'xml:lang': 'en', 'type': 'literal', 'value': 'Peter Paul Mercx'}}, {'item': {'type': 'uri', 'value': 'http://www.wikidata.org/entity/Q2884661'}, 'dateBirth': {'datatype': 'http://www.w3.org/2001/XMLSchema#dateTime', 'type': 'literal', 'value': '1739-06-11T00:00:00Z'}, 'itemLabel': {'xml:lang': 'en', 'type': 'literal', 'value': 'Gilles-Barnabé Guimard'}}, {'item': {'type': 'uri', 'value': 'http://www.wikidata.org/entity/Q2960372'}, 'dateBirth': {'datatype': 'http://www.w3.org/2001/XMLSchema#dateTime', 'type': 'literal', 'value': '1771-06-14T00:00:00Z'}, 'itemLabel': {'xml:lang': 'en', 'type': 'literal', 'value': 'Charles Vander Straeten'}}, {'item': {'type': 'uri', 'value': 'http://www.wikidata.org/entity/Q49989130'}, 'dateBirth': {'datatype': 'http://www.w3.org/2001/XMLSchema#dateTime', 'type': 'literal', 'value': '1805-05-20T00:00:00Z'}, 'itemLabel': {'xml:lang': 'en', 'type': 'literal', 'value': 'Gustave De Man'}}, {'item': {'type': 'uri', 'value': 'http://www.wikidata.org/entity/Q50355864'}, 'dateBirth': {'datatype': 'http://www.w3.org/2001/XMLSchema#dateTime', 'type': 'literal', 'value': '1808-01-07T00:00:00Z'}, 'itemLabel': {'xml:lang': 'en', 'type': 'literal', 'value': 'Félix Janlet'}}, {'item': {'type': 'uri', 'value': 'http://www.wikidata.org/entity/Q740717'}, 'dateBirth': {'datatype': 'http://www.w3.org/2001/XMLSchema#dateTime', 'type': 'literal', 'value': '1817-03-21T00:00:00Z'}, 'itemLabel': {'xml:lang': 'en', 'type': 'literal', 'value': 'Joseph Poelaert'}}, {'item': {'type': 'uri', 'value': 'http://www.wikidata.org/entity/Q2541120'}, 'dateBirth': {'datatype': 'http://www.w3.org/2001/XMLSchema#dateTime', 'type': 'literal', 'value': '1823-07-29T00:00:00Z'}, 'itemLabel': {'xml:lang': 'en', 'type': 'literal', 'value': 'Hendrik Beyaert'}}, {'item': {'type': 'uri', 'value': 'http://www.wikidata.org/entity/Q2820076'}, 'dateBirth': {'datatype': 'http://www.w3.org/2001/XMLSchema#dateTime', 'type': 'literal', 'value': '1858-04-15T00:00:00Z'}, 'itemLabel': {'xml:lang': 'en', 'type': 'literal', 'value': 'Aaron Messiah'}}, {'item': {'type': 'uri', 'value': 'http://www.wikidata.org/entity/Q2701772'}, 'dateBirth': {'datatype': 'http://www.w3.org/2001/XMLSchema#dateTime', 'type': 'literal', 'value': '1860-04-05T00:00:00Z'}, 'itemLabel': {'xml:lang': 'en', 'type': 'literal', 'value': 'Léon Govaerts'}}, {'item': {'type': 'uri', 'value': 'http://www.wikidata.org/entity/Q49744'}, 'dateBirth': {'datatype': 'http://www.w3.org/2001/XMLSchema#dateTime', 'type': 'literal', 'value': '1861-01-06T00:00:00Z'}, 'itemLabel': {'xml:lang': 'en', 'type': 'literal', 'value': 'Victor Horta'}}, {'item': {'type': 'uri', 'value': 'http://www.wikidata.org/entity/Q49744'}, 'dateBirth': {'datatype': 'http://www.w3.org/2001/XMLSchema#dateTime', 'type': 'literal', 'value': '1861-03-06T00:00:00Z'}, 'itemLabel': {'xml:lang': 'en', 'type': 'literal', 'value': 'Victor Horta'}}, {'item': {'type': 'uri', 'value': 'http://www.wikidata.org/entity/Q1889934'}, 'dateBirth': {'datatype': 'http://www.w3.org/2001/XMLSchema#dateTime', 'type': 'literal', 'value': '1870-03-24T00:00:00Z'}, 'itemLabel': {'xml:lang': 'en', 'type': 'literal', 'value': 'Johann Georg van Caspel'}}, {'item': {'type': 'uri', 'value': 'http://www.wikidata.org/entity/Q2825128'}, 'dateBirth': {'datatype': 'http://www.w3.org/2001/XMLSchema#dateTime', 'type': 'literal', 'value': '1878-07-01T00:00:00Z'}, 'itemLabel': {'xml:lang': 'en', 'type': 'literal', 'value': 'Adrien Blomme'}}, {'item': {'type': 'uri', 'value': 'http://www.wikidata.org/entity/Q2997457'}, 'dateBirth': {'datatype': 'http://www.w3.org/2001/XMLSchema#dateTime', 'type': 'literal', 'value': '1926-01-01T00:00:00Z'}, 'itemLabel': {'xml:lang': 'en', 'type': 'literal', 'value': 'Corneille Hannoset'}}, {'item': {'type': 'uri', 'value': 'http://www.wikidata.org/entity/Q314636'}, 'dateBirth': {'datatype': 'http://www.w3.org/2001/XMLSchema#dateTime', 'type': 'literal', 'value': '1934-07-09T00:00:00Z'}, 'itemLabel': {'xml:lang': 'en', 'type': 'literal', 'value': 'Michael Graves'}}, {'item': {'type': 'uri', 'value': 'http://www.wikidata.org/entity/Q4890331'}, 'dateBirth': {'datatype': 'http://www.w3.org/2001/XMLSchema#dateTime', 'type': 'literal', 'value': '1943-07-08T00:00:00Z'}, 'itemLabel': {'xml:lang': 'en', 'type': 'literal', 'value': 'Bent Hindrup Andersen'}}, {'item': {'type': 'uri', 'value': 'http://www.wikidata.org/entity/Q16350881'}, 'dateBirth': {'datatype': 'http://www.w3.org/2001/XMLSchema#dateTime', 'type': 'literal', 'value': '1948-08-27T00:00:00Z'}, 'itemLabel': {'xml:lang': 'en', 'type': 'literal', 'value': 'Aleksandrs Kiršteins'}}, {'item': {'type': 'uri', 'value': 'http://www.wikidata.org/entity/Q557932'}, 'dateBirth': {'datatype': 'http://www.w3.org/2001/XMLSchema#dateTime', 'type': 'literal', 'value': '1953-11-18T00:00:00Z'}, 'itemLabel': {'xml:lang': 'en', 'type': 'literal', 'value': 'Valentinas Mazuronis'}}, {'item': {'type': 'uri', 'value': 'http://www.wikidata.org/entity/Q942993'}, 'dateBirth': {'datatype': 'http://www.w3.org/2001/XMLSchema#dateTime', 'type': 'literal', 'value': '1954-06-20T00:00:00Z'}, 'itemLabel': {'xml:lang': 'en', 'type': 'literal', 'value': 'Jaroslav Paška'}}, {'item': {'type': 'uri', 'value': 'http://www.wikidata.org/entity/Q9340768'}, 'dateBirth': {'datatype': 'http://www.w3.org/2001/XMLSchema#dateTime', 'type': 'literal', 'value': '1955-01-28T00:00:00Z'}, 'itemLabel': {'xml:lang': 'en', 'type': 'literal', 'value': 'Spiros Danellis'}}, {'item': {'type': 'uri', 'value': 'http://www.wikidata.org/entity/Q450754'}, 'dateBirth': {'datatype': 'http://www.w3.org/2001/XMLSchema#dateTime', 'type': 'literal', 'value': '1955-05-07T00:00:00Z'}, 'itemLabel': {'xml:lang': 'en', 'type': 'literal', 'value': 'Frieda Brepoels'}}, {'item': {'type': 'uri', 'value': 'http://www.wikidata.org/entity/Q16186780'}, 'dateBirth': {'datatype': 'http://www.w3.org/2001/XMLSchema#dateTime', 'type': 'literal', 'value': '1955-07-30T00:00:00Z'}, 'itemLabel': {'xml:lang': 'en', 'type': 'literal', 'value': 'Jenő Manninger'}}, {'item': {'type': 'uri', 'value': 'http://www.wikidata.org/entity/Q1351147'}, 'dateBirth': {'datatype': 'http://www.w3.org/2001/XMLSchema#dateTime', 'type': 'literal', 'value': '1960-08-05T00:00:00Z'}, 'itemLabel': {'xml:lang': 'en', 'type': 'literal', 'value': 'Gérard Onesta'}}]\n"
     ]
    }
   ],
   "source": [
    "# Retrieve results from SPARQL\n",
    "endpoint = \"https://query.wikidata.org/bigdata/namespace/wdq/sparql\"\n",
    "sparql = SPARQLWrapper(endpoint)\n",
    "\n",
    "# P31 = instance of\n",
    "# Q5 = human\n",
    "# P106 = Occupation\n",
    "# Q42973 = Architect\n",
    "# P937 = Work location\n",
    "# Q239 = Brussels\n",
    "# P569 = date of birth\n",
    "\n",
    "statement = \"\"\"\n",
    "SELECT ?item ?itemLabel ?dateBirth WHERE { \n",
    "  ?item wdt:P31 wd:Q5 . \n",
    "  ?item wdt:P106 wd:Q42973 .\n",
    "  ?item wdt:P937 wd:Q239 .\n",
    "  ?item wdt:P569 ?dateBirth .\n",
    "  \n",
    "    SERVICE wikibase:label { bd:serviceParam wikibase:language \"en\" . }\n",
    "}\n",
    "ORDER BY ?dateBirth\n",
    "\"\"\"\n",
    "\n",
    "sparql.setQuery(statement)\n",
    "sparql.setReturnFormat(JSON)\n",
    "results = sparql.query().convert()\n",
    "\n",
    "rows = results['results']['bindings']\n",
    "print(f\"\\n{len(rows)} Architects working in Brussels found\\n\")\n",
    "print(rows[:30])"
   ]
  },
  {
   "cell_type": "markdown",
   "metadata": {},
   "source": [
    "## Pour en savoir plus"
   ]
  },
  {
   "cell_type": "markdown",
   "metadata": {},
   "source": [
    "- Le projet Wikidata : https://www.wikidata.org/wiki/Wikidata:Main_Page\n",
    "- Aide à la construction de requêtes : https://query.wikidata.org/"
   ]
  }
 ],
 "metadata": {
  "kernelspec": {
   "display_name": "Python 3 (ipykernel)",
   "language": "python",
   "name": "python3"
  },
  "language_info": {
   "codemirror_mode": {
    "name": "ipython",
    "version": 3
   },
   "file_extension": ".py",
   "mimetype": "text/x-python",
   "name": "python",
   "nbconvert_exporter": "python",
   "pygments_lexer": "ipython3",
   "version": "3.9.7"
  }
 },
 "nbformat": 4,
 "nbformat_minor": 4
}
