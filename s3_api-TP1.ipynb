{
 "cells": [
  {
   "cell_type": "code",
   "execution_count": 35,
   "id": "004a61d5-ad92-42ae-8f18-26bc3b15217a",
   "metadata": {},
   "outputs": [],
   "source": [
    "import  requests\n",
    "import json"
   ]
  },
  {
   "cell_type": "code",
   "execution_count": 36,
   "id": "f63d2769-e54b-4956-b472-1a97ad971026",
   "metadata": {},
   "outputs": [
    {
     "name": "stdout",
     "output_type": "stream",
     "text": [
      "code 200\n",
      "\n",
      "text \n",
      "{\n",
      "    \"id\": \"alienation\",\n",
      "    \"metadata\": {\n",
      "        \"operation\": \"retrieve\",\n",
      "        \"provider\": \"Oxford University Press\",\n",
      "        \"schema\": \"RetrieveEntry\"\n",
      "    },\n",
      "    \"results\": [\n",
      "        {\n",
      "            \"id\": \"ali%C3%A9nation\",\n",
      "            \"language\": \"fr\",\n",
      "            \"lexicalEntries\": [\n",
      "                {\n",
      "                    \"entries\": [\n",
      "                        {\n",
      "                            \"grammaticalFeatures\": [\n",
      "                                {\n",
      "                                    \"id\": \"feminine\",\n",
      "                                    \"text\": \"Feminine\",\n",
      "                                    \"type\": \"Gender\"\n",
      "                                }\n",
      "                            ],\n",
      "                            \"senses\": [\n",
      "                                {\n",
      "                                    \"definitions\": [\n",
      "                                        \"Transmission à autrui d’un bien ou d’un droit.\"\n",
      "                                    ],\n",
      "                                    \"domains\": [\n",
      "                                        {\n",
      "                                            \"id\": \"law\",\n",
      "                                            \"text\": \"Law\"\n",
      "                                        }\n",
      "                                    ],\n",
      "                                    \"id\": \"idd6642817-7a57-4b93-ac71-8da0129dd29f\"\n",
      "                                },\n",
      "                                {\n",
      "                                    \"definitions\": [\n",
      "                                        \"État de la personne asservie, soumise à de telles contraintes qu'elle devient étrangère à elle-même.\"\n",
      "                                    ],\n",
      "                                    \"domains\": [\n",
      "                                        {\n",
      "                                            \"id\": \"philosophy\",\n",
      "                                            \"text\": \"Philosophy\"\n",
      "                                        }\n",
      "                                    ],\n",
      "                                    \"id\": \"id2255eafc-ea1d-47ab-b8ce-b5bbef00bc6d\"\n",
      "                                }\n",
      "                            ]\n",
      "                        }\n",
      "                    ],\n",
      "                    \"language\": \"fr\",\n",
      "                    \"lexicalCategory\": {\n",
      "                        \"id\": \"noun\",\n",
      "                        \"text\": \"Noun\"\n",
      "                    },\n",
      "                    \"phrases\": [\n",
      "                        {\n",
      "                            \"id\": \"ali%C3%A9nation_mentale\",\n",
      "                            \"text\": \"aliénation mentale\"\n",
      "                        }\n",
      "                    ],\n",
      "                    \"text\": \"aliénation\"\n",
      "                }\n",
      "            ],\n",
      "            \"type\": \"headword\",\n",
      "            \"word\": \"aliénation\"\n",
      "        }\n",
      "    ],\n",
      "    \"word\": \"aliénation\"\n",
      "}\n",
      "json \n",
      "{\"id\": \"alienation\", \"metadata\": {\"operation\": \"retrieve\", \"provider\": \"Oxford University Press\", \"schema\": \"RetrieveEntry\"}, \"results\": [{\"id\": \"ali%C3%A9nation\", \"language\": \"fr\", \"lexicalEntries\": [{\"entries\": [{\"grammaticalFeatures\": [{\"id\": \"feminine\", \"text\": \"Feminine\", \"type\": \"Gender\"}], \"senses\": [{\"definitions\": [\"Transmission \\u00e0 autrui d\\u2019un bien ou d\\u2019un droit.\"], \"domains\": [{\"id\": \"law\", \"text\": \"Law\"}], \"id\": \"idd6642817-7a57-4b93-ac71-8da0129dd29f\"}, {\"definitions\": [\"\\u00c9tat de la personne asservie, soumise \\u00e0 de telles contraintes qu'elle devient \\u00e9trang\\u00e8re \\u00e0 elle-m\\u00eame.\"], \"domains\": [{\"id\": \"philosophy\", \"text\": \"Philosophy\"}], \"id\": \"id2255eafc-ea1d-47ab-b8ce-b5bbef00bc6d\"}]}], \"language\": \"fr\", \"lexicalCategory\": {\"id\": \"noun\", \"text\": \"Noun\"}, \"phrases\": [{\"id\": \"ali%C3%A9nation_mentale\", \"text\": \"ali\\u00e9nation mentale\"}], \"text\": \"ali\\u00e9nation\"}], \"type\": \"headword\", \"word\": \"ali\\u00e9nation\"}], \"word\": \"ali\\u00e9nation\"}\n"
     ]
    }
   ],
   "source": [
    "app_id = \"b3a81ef4\"\n",
    "app_key = \"89808a99c17c7f979544e0411ab5349b\"\n",
    "\n",
    "endpoint = \"entries\"\n",
    "language = \"FR\"\n",
    "word_id = \"aliénation\"\n",
    "\n",
    "url = \"https://od-api.oxforddictionaries.com/api/v2/\" + endpoint + \"/\" + language_code + \"/\" + word_id.lower()\n",
    "r = requests.get(url, headers = {'app_id' : app_id, 'app_key' : app_key})\n",
    "print(\"code {}\\n\".format(r.status_code))\n",
    "print(\"text \\n\" + r.text)\n",
    "print(\"json \\n\" + json.dumps(r.json()))"
   ]
  },
  {
   "cell_type": "code",
   "execution_count": null,
   "id": "21d6ee11-ae4d-4726-bfab-c4d8adfdc3b7",
   "metadata": {},
   "outputs": [],
   "source": []
  }
 ],
 "metadata": {
  "kernelspec": {
   "display_name": "Python 3 (ipykernel)",
   "language": "python",
   "name": "python3"
  },
  "language_info": {
   "codemirror_mode": {
    "name": "ipython",
    "version": 3
   },
   "file_extension": ".py",
   "mimetype": "text/x-python",
   "name": "python",
   "nbconvert_exporter": "python",
   "pygments_lexer": "ipython3",
   "version": "3.9.7"
  }
 },
 "nbformat": 4,
 "nbformat_minor": 5
}
